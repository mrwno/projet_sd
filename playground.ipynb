{
 "cells": [
  {
   "cell_type": "markdown",
   "id": "04f03237-a27b-4415-aa07-b7b7b2420ec3",
   "metadata": {},
   "source": [
    "Package MTCFeatures: https://pvankranenburg.github.io/MTCFeatures/\n",
    "\n",
    "Pour récupérer les MIDI ou pdf pour que ce soit plus visuel (en particulier, c'est le dataset MTC-FS-INST (900Mb)): https://www.liederenbank.nl/mtc"
   ]
  },
  {
   "cell_type": "code",
   "execution_count": 3,
   "id": "59d3f1e8-d525-4194-8d98-931dff7d6021",
   "metadata": {},
   "outputs": [
    {
     "name": "stdout",
     "output_type": "stream",
     "text": [
      "Requirement already satisfied: MTCFeatures in /home/marwane/anaconda3/lib/python3.9/site-packages (1.1)\n"
     ]
    }
   ],
   "source": [
    "# décommenter pour installer le package une fois pour toutes\n",
    "!pip install MTCFeatures"
   ]
  },
  {
   "cell_type": "code",
   "execution_count": 1,
   "id": "f1dbf05c-c3e4-4983-ae0f-3cb6d6fc6b88",
   "metadata": {},
   "outputs": [],
   "source": [
    "import MTCFeatures\n",
    "from MTCFeatures import MTCFeatureLoader\n",
    "import pandas as pd\n",
    "import numpy as np"
   ]
  },
  {
   "cell_type": "code",
   "execution_count": 2,
   "id": "40ed33d1-4a7c-458b-a7d1-10899c319737",
   "metadata": {},
   "outputs": [
    {
     "name": "stdout",
     "output_type": "stream",
     "text": [
      "[██████████████████████████████████████████████████]MTC-ANN-2.0.1_sequences-1.1.jsonl.gz?download=1 -> /home/marwane/.local/share/MTCFeatures/MTC-ANN-2.0.1_sequences-1.1.jsonl.gz\n",
      "[██████████████████████████████████████████████████]MTC-FS-INST-2.0_sequences-1.1.jsonl.gz?download=1 -> /home/marwane/.local/share/MTCFeatures/MTC-FS-INST-2.0_sequences-1.1.jsonl.gz\n",
      "[██████████████████████████████████████████████████]essen_sequences-1.1.jsonl.gz?download=1 -> /home/marwane/.local/share/MTCFeatures/essen_sequences-1.1.jsonl.gz\n"
     ]
    }
   ],
   "source": [
    "# Run once\n",
    "MTCFeatures.downloadData(dest='user')"
   ]
  },
  {
   "cell_type": "code",
   "execution_count": 3,
   "id": "b02d5b77-9385-49d5-9f22-b3237ebebde3",
   "metadata": {},
   "outputs": [],
   "source": [
    "fl = MTCFeatureLoader('MTC-FS-INST-2.0')\n",
    "seqs = fl.sequences()"
   ]
  },
  {
   "cell_type": "code",
   "execution_count": 5,
   "id": "1b3c545e",
   "metadata": {},
   "outputs": [
    {
     "data": {
      "text/plain": [
       "generator"
      ]
     },
     "execution_count": 5,
     "metadata": {},
     "output_type": "execute_result"
    }
   ],
   "source": [
    "type(seqs)"
   ]
  },
  {
   "cell_type": "code",
   "execution_count": 6,
   "id": "06ffd139",
   "metadata": {},
   "outputs": [],
   "source": [
    "item = seqs.__next__()\n",
    "#print(item)\n",
    "#print(item.keys())\n",
    "#print(item['features'].keys())"
   ]
  },
  {
   "cell_type": "code",
   "execution_count": 7,
   "id": "16cc1133-8aef-4784-8575-92e2a85edf27",
   "metadata": {},
   "outputs": [
    {
     "name": "stdout",
     "output_type": "stream",
     "text": [
      "CPU times: user 12 s, sys: 1.44 s, total: 13.5 s\n",
      "Wall time: 13.5 s\n"
     ]
    }
   ],
   "source": [
    "%%time\n",
    "phrase_data = []\n",
    "for ii, x in enumerate(seqs):\n",
    "    phrase_data.append({\n",
    "        'id': x['id'],\n",
    "        **x['features']\n",
    "    })"
   ]
  },
  {
   "cell_type": "code",
   "execution_count": 8,
   "id": "89588982-6256-4339-b77e-e07a0114752e",
   "metadata": {},
   "outputs": [
    {
     "name": "stdout",
     "output_type": "stream",
     "text": [
      "0    13\n",
      "dtype: int64 0    1\n",
      "dtype: int64\n",
      "0    11\n",
      "dtype: int64 0    1\n",
      "dtype: int64\n",
      "0    10\n",
      "dtype: int64 0    1\n",
      "dtype: int64\n",
      "0    9\n",
      "dtype: int64 0    1\n",
      "dtype: int64\n",
      "0    7\n",
      "dtype: int64 0    1\n",
      "dtype: int64\n"
     ]
    }
   ],
   "source": [
    "df_phrase = pd.DataFrame(phrase_data)\n",
    "\n",
    "for i in range(5):\n",
    "    df_pitch = pd.DataFrame(df_phrase[\"pitch\"].iloc[i])\n",
    "    df_mode = pd.DataFrame(df_phrase[\"mode\"].iloc[i])\n",
    "    print(df_pitch.nunique(), df_mode.nunique())\n"
   ]
  },
  {
   "cell_type": "code",
   "execution_count": 9,
   "id": "953fa1a9-d93d-42e7-8713-7f083f024b30",
   "metadata": {},
   "outputs": [
    {
     "data": {
      "text/plain": [
       "Index(['id', 'scaledegree', 'scaledegreespecifier', 'tonic', 'mode',\n",
       "       'metriccontour', 'imaweight', 'pitch40', 'midipitch', 'diatonicpitch',\n",
       "       'diatonicinterval', 'chromaticinterval', 'pitchproximity',\n",
       "       'pitchreversal', 'nextisrest', 'restduration_frac', 'duration',\n",
       "       'duration_frac', 'duration_fullname', 'onsettick', 'beatfraction',\n",
       "       'phrasepos', 'phrase_ix', 'phrase_end', 'songpos', 'beatinsong',\n",
       "       'beatinphrase', 'beatinphrase_end', 'IOI_frac', 'IOI', 'IOR',\n",
       "       'imacontour', 'pitch', 'contour3', 'contour5', 'beatstrength',\n",
       "       'beat_str', 'beat_fraction_str', 'beat', 'timesignature',\n",
       "       'gpr2a_Frankland', 'gpr2b_Frankland', 'gpr3a_Frankland',\n",
       "       'gpr3d_Frankland', 'gpr_Frankland_sum', 'lbdm_spitch', 'lbdm_sioi',\n",
       "       'lbdm_srest', 'lbdm_rpitch', 'lbdm_rioi', 'lbdm_rrest',\n",
       "       'lbdm_boundarystrength', 'durationcontour', 'IOR_frac', 'lyrics',\n",
       "       'noncontentword', 'wordend', 'phoneme', 'rhymes', 'rhymescontentwords',\n",
       "       'wordstress', 'melismastate'],\n",
       "      dtype='object')"
      ]
     },
     "execution_count": 9,
     "metadata": {},
     "output_type": "execute_result"
    }
   ],
   "source": [
    "df_phrase.columns"
   ]
  },
  {
   "cell_type": "code",
   "execution_count": 10,
   "id": "3be20937-77fd-481f-a77e-6cc6cc51ba70",
   "metadata": {},
   "outputs": [
    {
     "data": {
      "text/plain": [
       "0        [3/4, 1/4, 1, 1, 1, 1, 1/2, 1/4, 1/4, 1/2, 1/2...\n",
       "1        [1/2, 1/2, 1/2, 3/2, 1/2, 3/2, 1/2, 2, 1, 3/2,...\n",
       "2        [1/2, 1/2, 1/2, 1, 1, 1/2, 1/2, 1, 1/2, 1/2, 3...\n",
       "3        [1/2, 1/4, 1/4, 1/2, 1/4, 1/4, 1/2, 1/2, 1, 1/...\n",
       "4        [1, 1/3, 1/3, 1/3, 1, 1, 2/3, 1/3, 1/2, 1/6, 1...\n",
       "                               ...                        \n",
       "18103    [1/2, 1/2, 1/2, 1/2, 1/2, 1/2, 1, 1/2, 1/2, 1/...\n",
       "18104    [1/3, 1/3, 1/3, 2/3, 1/3, 1/3, 1/3, 2/3, 1/3, ...\n",
       "18105    [1/2, 1/2, 1/2, 1/2, 1/2, 1/4, 1/4, 1/2, 1/2, ...\n",
       "18106    [3/8, 1/8, 3/8, 1/8, 3/8, 1/8, 3/8, 1/8, 3/8, ...\n",
       "18107    [1/3, 1/3, 1/3, 1/3, 2/3, 1/3, 1/3, 1/3, 1/3, ...\n",
       "Name: beatfraction, Length: 18108, dtype: object"
      ]
     },
     "execution_count": 10,
     "metadata": {},
     "output_type": "execute_result"
    }
   ],
   "source": [
    "df_phrase['beatfraction']\n"
   ]
  },
  {
   "cell_type": "code",
   "execution_count": 11,
   "id": "63e3900a-c4a0-4f12-844b-a741c20584e5",
   "metadata": {},
   "outputs": [
    {
     "data": {
      "text/plain": [
       "0        [False, False, False, False, False, False, Fal...\n",
       "1        [False, False, False, False, False, False, Fal...\n",
       "2        [False, False, False, False, False, False, Fal...\n",
       "3        [False, False, False, False, False, False, Fal...\n",
       "4        [False, False, False, False, False, False, Fal...\n",
       "                               ...                        \n",
       "18103    [False, False, False, False, False, False, Fal...\n",
       "18104    [False, False, False, False, False, False, Fal...\n",
       "18105    [False, False, False, False, False, False, Fal...\n",
       "18106    [False, False, False, False, False, False, Fal...\n",
       "18107    [False, False, False, False, False, False, Fal...\n",
       "Name: phrase_end, Length: 18108, dtype: object"
      ]
     },
     "execution_count": 11,
     "metadata": {},
     "output_type": "execute_result"
    }
   ],
   "source": [
    "df_phrase['phrase_end']"
   ]
  },
  {
   "cell_type": "code",
   "execution_count": null,
   "id": "f9552bbf-77bc-4fb4-8292-042a1abf3d67",
   "metadata": {},
   "outputs": [],
   "source": []
  },
  {
   "cell_type": "code",
   "execution_count": 42,
   "id": "57e2ef38-3c68-400c-aeeb-b942343bb49e",
   "metadata": {},
   "outputs": [],
   "source": [
    "from fractions import Fraction\n",
    "sequence_length = 5\n",
    "selected_features = ['midipitch','diatonicinterval', 'duration', 'scaledegree', 'diatonicpitch', 'songpos', 'nextisrest']\n",
    "#, 'beatstrength', 'duration', 'scaledegree', 'diatonicpitch', 'songpos', 'IOI', 'nextisrest'"
   ]
  },
  {
   "cell_type": "code",
   "execution_count": 44,
   "id": "b855e33e-8157-47ec-a409-73c1b5c7d513",
   "metadata": {},
   "outputs": [
    {
     "data": {
      "text/plain": [
       "\"X = []  # matrice 3D pour les sous-séquences\\ny = []  # Liste pour les labels\\n\\nfor index, row in df_phrase.iterrows():\\n    # Récupération des séquences pour chaque attribut\\n    sequences = {feature: row[feature] for feature in selected_features}\\n    phrase_end = row['phrase_end']  # Récupération des labels de fin de phrase\\n    # Création des sous-séquences\\n    for i in range(len(phrase_end) - sequence_length + 1):\\n        # Vérifie si on peut extraire une sous-séquence valide\\n        subsequence = {feature: sequences[feature][i:i + sequence_length] for feature in selected_features}\\n        subsequence_label = phrase_end[i + sequence_length - 1]  # Dernier élément comme label\\n        \\n        # Ajouter la sous-séquence à X et le label à y\\n        X.append([subsequence[feature] for feature in selected_features])\\n        y.append(subsequence_label)\\n\\n# Conversion en matrices numpy\\nX = np.array(X)  # Shape: (N, L, F)\\ny = np.array(y)\""
      ]
     },
     "execution_count": 44,
     "metadata": {},
     "output_type": "execute_result"
    }
   ],
   "source": [
    "'''X = []  # matrice 3D pour les sous-séquences\n",
    "y = []  # Liste pour les labels\n",
    "\n",
    "for index, row in df_phrase.iterrows():\n",
    "    # Récupération des séquences pour chaque attribut\n",
    "    sequences = {feature: row[feature] for feature in selected_features}\n",
    "    phrase_end = row['phrase_end']  # Récupération des labels de fin de phrase\n",
    "    # Création des sous-séquences\n",
    "    for i in range(len(phrase_end) - sequence_length + 1):\n",
    "        # Vérifie si on peut extraire une sous-séquence valide\n",
    "        subsequence = {feature: sequences[feature][i:i + sequence_length] for feature in selected_features}\n",
    "        subsequence_label = phrase_end[i + sequence_length - 1]  # Dernier élément comme label\n",
    "        \n",
    "        # Ajouter la sous-séquence à X et le label à y\n",
    "        X.append([subsequence[feature] for feature in selected_features])\n",
    "        y.append(subsequence_label)\n",
    "\n",
    "# Conversion en matrices numpy\n",
    "X = np.array(X)  # Shape: (N, L, F)\n",
    "y = np.array(y)'''"
   ]
  },
  {
   "cell_type": "code",
   "execution_count": 46,
   "id": "ffba7f64-4a60-4b06-aaa1-288499da96d1",
   "metadata": {},
   "outputs": [],
   "source": [
    "#X[0]"
   ]
  },
  {
   "cell_type": "code",
   "execution_count": 55,
   "id": "1e38055a-14da-4270-a0db-de9e8eb8aeaa",
   "metadata": {},
   "outputs": [
    {
     "data": {
      "text/plain": [
       "(483639, 7, 5)"
      ]
     },
     "execution_count": 55,
     "metadata": {},
     "output_type": "execute_result"
    }
   ],
   "source": [
    "X2 = []  # Liste pour les sous-séquences\n",
    "y2 = []  # Liste pour les labels\n",
    "\n",
    "for index, row in df_phrase.iterrows():\n",
    "    # Récupération des séquences pour chaque attribut\n",
    "    sequences = {feature: row[feature] for feature in selected_features}\n",
    "    phrase_end = row['phrase_end']  # Récupération des labels de fin de phrase\n",
    "\n",
    "    if \"diatonicinterval\" in sequences:\n",
    "        sequences[\"diatonicinterval\"][0] = -1\n",
    "    if \"nextisrest\" in sequences:\n",
    "        sequences[\"nextisrest\"][-1] = True\n",
    "        sequences[\"nextisrest\"] = [int(value) for value in sequences[\"nextisrest\"]]\n",
    "    # Création des sous-séquences\n",
    "    for i in range(len(phrase_end) - sequence_length + 1):\n",
    "        # Extraction de la sous-séquence\n",
    "        subsequence = {feature: sequences[feature][i:i + sequence_length] for feature in selected_features}\n",
    "        subsequence_phrase_end = phrase_end[i:i + sequence_length]  # Sous-séquence des labels phrase_end\n",
    "        \n",
    "        # Vérifie si la sous-séquence contient au moins une fin de phrase (phrase_end = True)\n",
    "        if any(subsequence_phrase_end):  \n",
    "            # Ajouter la sous-séquence à X\n",
    "            X2.append([subsequence[feature] for feature in selected_features])\n",
    "            # Le label est la valeur de phrase_end à la dernière position de la sous-séquence\n",
    "            y2.append(subsequence_phrase_end[-1])\n",
    "\n",
    "# Conversion en matrices numpy\n",
    "X2 = np.array(X2)  # Shape: (N, L, F)\n",
    "y2 = np.array(y2)  # Shape: (N,)\n",
    "X2.shape"
   ]
  },
  {
   "cell_type": "code",
   "execution_count": 56,
   "id": "f9f6f408-1931-42a4-b62f-db53ae9f3c3d",
   "metadata": {},
   "outputs": [
    {
     "data": {
      "text/plain": [
       "array([[ 6.90000000e+01,  6.90000000e+01,  6.90000000e+01,\n",
       "         7.40000000e+01,  7.20000000e+01],\n",
       "       [ 0.00000000e+00,  0.00000000e+00,  0.00000000e+00,\n",
       "         3.00000000e+00, -1.00000000e+00],\n",
       "       [ 2.50000000e-01,  5.00000000e-01,  5.00000000e-01,\n",
       "         2.00000000e+00,  5.00000000e-01],\n",
       "       [ 3.00000000e+00,  3.00000000e+00,  3.00000000e+00,\n",
       "         6.00000000e+00,  5.00000000e+00],\n",
       "       [ 3.00000000e+01,  3.00000000e+01,  3.00000000e+01,\n",
       "         3.30000000e+01,  3.20000000e+01],\n",
       "       [ 5.27522936e-02,  5.50458716e-02,  5.96330275e-02,\n",
       "         6.42201835e-02,  8.25688073e-02],\n",
       "       [ 0.00000000e+00,  0.00000000e+00,  0.00000000e+00,\n",
       "         0.00000000e+00,  0.00000000e+00]])"
      ]
     },
     "execution_count": 56,
     "metadata": {},
     "output_type": "execute_result"
    }
   ],
   "source": [
    "X2[1]"
   ]
  },
  {
   "cell_type": "code",
   "execution_count": 59,
   "id": "081c5e75-0190-41a8-96f6-80c5ebe2b63f",
   "metadata": {},
   "outputs": [],
   "source": [
    "from sklearn.svm import SVC\n",
    "from sklearn.tree import DecisionTreeClassifier\n",
    "from sklearn.linear_model import SGDClassifier, LogisticRegression\n",
    "from sklearn.neighbors import KNeighborsClassifier\n",
    "from sklearn.neural_network import MLPClassifier\n",
    "from sklearn.preprocessing import PolynomialFeatures\n",
    "from sklearn.linear_model import LinearRegression\n",
    "\n",
    "linr = LinearRegression()\n",
    "#poly = PolynomialFeatures(degree=3)\n",
    "svc = SVC()\n",
    "lr = LogisticRegression(max_iter=5000)\n",
    "knn = KNeighborsClassifier(7)\n",
    "sdg = SGDClassifier()\n",
    "\n",
    "dt = DecisionTreeClassifier()\n",
    "mlp = MLPClassifier(max_iter=5000)\n",
    "\n",
    "methods = [linr, lr, knn, sdg, dt, mlp]"
   ]
  },
  {
   "cell_type": "code",
   "execution_count": 61,
   "id": "a14e529a-adee-4ee1-aaf0-fce6c469dfab",
   "metadata": {
    "scrolled": true
   },
   "outputs": [
    {
     "name": "stdout",
     "output_type": "stream",
     "text": [
      "         LinearRegression 0.482 (0.030)\n",
      "       LogisticRegression 0.899 (0.008)\n",
      "     KNeighborsClassifier 0.850 (0.007)\n",
      "            SGDClassifier 0.892 (0.010)\n",
      "   DecisionTreeClassifier 0.889 (0.009)\n",
      "            MLPClassifier 0.909 (0.009)\n"
     ]
    }
   ],
   "source": [
    "from sklearn.model_selection import cross_val_score\n",
    "acc = {}\n",
    "std = {}\n",
    "X_flattened = X2.reshape(X2.shape[0], -1)\n",
    "for m in methods:\n",
    "    acc[m] = []\n",
    "    std[m] = []\n",
    "    r = cross_val_score(m, X_flattened, y2)\n",
    "    acc[m].append(np.mean(r))\n",
    "    std[m].append(np.std(r))\n",
    "    print(\"{:>25} {:1.3f} ({:1.3f})\".format(m.__class__.__name__, np.mean(r), np.std(r)))\n"
   ]
  },
  {
   "cell_type": "markdown",
   "id": "9194d2df-52c9-4ec7-9bed-0a963161be92",
   "metadata": {},
   "source": [
    "# Cross val differente méthode\n",
    "\n",
    "# midipitch \n",
    "LinearRegression 0.072 (0.006)\n",
    "\n",
    "LogisticRegression 0.760 (0.002)\n",
    "\n",
    "KNeighborsClassifier 0.781 (0.008)\n",
    "\n",
    "SGDClassifier 0.700 (0.120)\n",
    "\n",
    "DecisionTreeClassifier 0.800 (0.007)\n",
    "\n",
    "MLPClassifier 0.778 (0.004)\n",
    "\n",
    "# midipitch duration \n",
    "LinearRegression 0.396 (0.010)\n",
    "\n",
    "LogisticRegression 0.875 (0.003)\n",
    "\n",
    "KNeighborsClassifier 0.854 (0.007)\n",
    "\n",
    "DecisionTreeClassifier 0.866 (0.005)\n",
    "\n",
    "MLPClassifier 0.887 (0.004)\n",
    "\n",
    "# ['midipitch', 'duration', 'songpos']\n",
    "LinearRegression 0.392 (0.010)\n",
    "\n",
    "LogisticRegression 0.873 (0.003)\n",
    "\n",
    "KNeighborsClassifier 0.865 (0.005)\n",
    "\n",
    "DecisionTreeClassifier 0.871 (0.006)\n",
    "\n",
    "MLPClassifier 0.885 (0.002)\n",
    "\n",
    "# ['midipitch', 'duration', 'songpos','diatonicpitch']\n",
    "LinearRegression 0.397 (0.009\n",
    "\n",
    "LogisticRegression 0.875 (0.003)\n",
    "\n",
    "KNeighborsClassifier 0.856 (0.006)\n",
    "\n",
    "DecisionTreeClassifier 0.871 (0.006)\n",
    "\n",
    "MLPClassifier 0.887 (0.004)\n",
    "\n",
    "# ['midipitch','diatonicinterval', 'duration', 'scaledegree', 'diatonicpitch', 'songpos', 'nextisrest']\n",
    "Transformation faites pour nextisrest, et diatonicpitch : \n",
    "\n",
    "LinearRegression 0.482 (0.030)\n",
    "\n",
    "LogisticRegression 0.899 (0.008)\n",
    "\n",
    "KNeighborsClassifier 0.850 (0.007)\n",
    "\n",
    "SGDClassifier 0.892 (0.010)\n",
    "\n",
    "DecisionTreeClassifier 0.889 (0.009)\n",
    "\n",
    "MLPClassifier 0.909 (0.009)\n",
    "\n",
    "# Attibuts non fonctionnel hors DT\n",
    "## midipitch, ioi\n",
    "DecisionTreeClassifier 0.887 (0.007)\n",
    "## + nextisrest \n",
    "DecisionTreeClassifier 0.890 (0.008)\n",
    "## + nextisrest + beatstrength\n",
    "DecisionTreeClassifier 0.903 (0.006)\n",
    "## + beatstrength\n",
    "DecisionTreeClassifier 0.901 (0.006)\n"
   ]
  },
  {
   "cell_type": "code",
   "execution_count": null,
   "id": "4e4ee013-b3d4-4b91-83df-65ddf5a29cf4",
   "metadata": {},
   "outputs": [],
   "source": [
    "\n"
   ]
  }
 ],
 "metadata": {
  "kernelspec": {
   "display_name": "Python 3 (ipykernel)",
   "language": "python",
   "name": "python3"
  },
  "language_info": {
   "codemirror_mode": {
    "name": "ipython",
    "version": 3
   },
   "file_extension": ".py",
   "mimetype": "text/x-python",
   "name": "python",
   "nbconvert_exporter": "python",
   "pygments_lexer": "ipython3",
   "version": "3.9.20"
  }
 },
 "nbformat": 4,
 "nbformat_minor": 5
}
